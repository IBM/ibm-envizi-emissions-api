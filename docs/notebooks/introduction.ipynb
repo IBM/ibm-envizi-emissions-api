{
 "cells": [
  {
   "cell_type": "markdown",
   "metadata": {},
   "source": [
    "# Introducing IBM Envizi - Emissions API"
   ]
  },
  {
   "cell_type": "markdown",
   "metadata": {},
   "source": [
    "IBM Envizi - Emissions API calculates greenhouse gas emissions based on activities your organization performs. It uses a database of managed factors to calculate emissions. You can integrate emissions calculations into your applications and workflows, so that you can measure the carbon impact of everyday operations—like energy use, travel, refrigerants, and waste—and use that data to plan, forecast, and reduce emissions.\n",
    "\n",
    "The Emissions API provides a set of APIs that calculate greenhouse gas emissions based on how much of a given activity your organization has consumed."
   ]
  },
  {
   "cell_type": "markdown",
   "metadata": {},
   "source": [
    "## Greenhouse Gas Emissions"
   ]
  },
  {
   "cell_type": "markdown",
   "metadata": {},
   "source": [
    "Greenhouse gas emissions are gases released into the atmosphere as a result of human activities, primarily the burning of fossil fuels such as coal, oil, and natural gas.\n",
    "\n",
    "Carbon Engine provides data and calculations for the six greenhouse gasses outlined in the [Kyoto Protocol][1] and Nitrogen Trifluoride (NF<sub>3</sub>) which was added to the GHG Protocol in a [2013][2] amendment:\n",
    "\n",
    "- Carbon Dioxide (**CO<sub>2</sub>**): This is the most prevalent greenhouse gas, accounting for the majority of emissions. It is released through various activities, including the combustion of fossil fuels for energy, deforestation, and land-use changes.\n",
    "\n",
    "- Methane (**CH<sub>4</sub>**): Methane is about 25 times more potent than CO<sub>2</sub> in trapping heat in the atmosphere over a 100-year period. It is primarily emitted during agricultural processes, by the energy sector (particularly oil and gas) and managing waste.\n",
    "\n",
    "- Nitrous Oxide (**N<sub>2</sub>O**): Nitrous oxide is approximately 300 times more potent than CO<sub>2</sub> in trapping heat over a 100-year period. It is primarily emitted during agricultural processes, fuel combustion, waste management and industrial processes.\n",
    "\n",
    "- Fluorinated Gases: These are synthetic, potent greenhouse gases that are are emitted from various industrial processes, including refrigeration, air conditioning, and semiconductor manufacturing.\n",
    "  - Hydrofluorocarbons (**HFCs**) \n",
    "  - Perfluorocarbons (**PFCs**)\n",
    "  - Sulphur Hexafluoride (**SF<sub>6</sub>**) \n",
    "  - Nitrogen Trifluoride (**NF<sub>3</sub>**)\n",
    "\n",
    "[1]: https://unfccc.int/resource/docs/convkp/kpeng.pdf\n",
    "[2]: https://ghgprotocol.org/sites/default/files/ghgp/NF3-Amendment_052213.pdf"
   ]
  },
  {
   "cell_type": "markdown",
   "metadata": {},
   "source": [
    "## Scopes"
   ]
  },
  {
   "cell_type": "markdown",
   "metadata": {},
   "source": [
    "The [Greehouse Gas (GHG) Protocol][3] categorises greenhouse gas emissions into scopes to help organisations measure and report their emissions effectively:\n",
    "\n",
    "- Scope 1: direct emissions from onsite sources that a company owns or controls\n",
    "- Scope 2: indirect emissions through purchased energy\n",
    "- Scope 3: indirect emissions that occur in a company's value chain\n",
    "\n",
    "[3]: https://ghgprotocol.org/sites/default/files/standards/ghg-protocol-revised.pdf"
   ]
  },
  {
   "cell_type": "markdown",
   "metadata": {},
   "source": [
    "## Factor Sets"
   ]
  },
  {
   "cell_type": "markdown",
   "metadata": {},
   "source": [
    "An emissions factor set (factor set) is a collection of emissions factor values used to estimate greenhouse gas emissions. A factor set is typically produced by government agencies (e.g. [The United States Environmental Protection Agency](https://www.epa.gov/egrid)) intergovernmental organisations (e.g. [United Nations Framework Convention on Climate Change](https://unfccc.int) (UNFCCC)), trade bodies (e.g. [Partnership for Carbon Accounting Financials](https://carbonaccountingfinancials.com) (PCAF), [Global Logistics Emissions Council](https://www.smartfreightcentre.org/en/our-programs/emissions-accounting/global-logistics-emissions-council/calculate-report-glec-framework/) (GLEC)) or Nonprofit organisations (e.g. [Climate TRACE](https://climatetrace.org)).\n",
    "\n",
    "An emissions factor (factor) is a value for the conversion of unit of activity data (e.g. purchased electricity in kWh) to an amount of greenhouse gas emitted- expressed in Emissions API as total amount of CO<sub>2</sub>e and constituent gas breakdown, where available.\n",
    "\n",
    "Emissions API includes the following factor sets in the managed factor database for use in the calculation engine:"
   ]
  },
  {
   "cell_type": "markdown",
   "metadata": {},
   "source": [
    "|Publisher|Department|Name|Factor Set|What|Where|When|\n",
    "|---------|----------|----|----------|----|-----|----|\n",
    "|Australian Government|Department of Climate Change, Energy, the Environment and Water|[Australian National Greenhouse Accounts Factors](https://www.dcceew.gov.au/climate-change/publications/national-greenhouse-accounts-factors)|NGERS|- Scope 1: fossil fuels, biofuels, refrigerants - Scope 2: Australian electricity - Scope 3: upstream and downstream emissions resulting from Scope 1 and 2 emission sources, waste (very broad categories, well-to-tank) (upstream and downstream emissions from Scope 3 activities)|Earth, Australia|2015 - 2023|\n",
    "|Government of Canada|Environment and Climate Change Canada|[Canada's Official Greenhouse Gas Inventory](https://data-donnees.az.ec.gc.ca/data/substances/monitor/canada-s-official-greenhouse-gas-inventory/)|Canada - National Inventory Factors|- Scope 2: electricity and electricity green offset - Scope 3: electricity and electricity indirect only|Earth, Canada|1999 - 2024|\n",
    "|Federal Government of the United States|Environmental Protection Agency|[Emissions & Generation Resource Integrated Database (eGRID)](https://www.epa.gov/egrid)|eGRID & US Climate Leaders|- Scope 1: natural gas - Scope 2: electricity and electricity green offset - Scope 3: electricity and electricity indirect only, natural gas - Scope 3: electricity and electricity indirect only|United States of America|2006 - 2024|\n",
    "|Federal Government of the United States|Environmental Protection Agency|[GHG Emission Factors Hub](https://www.epa.gov/climateleadership/ghg-emission-factors-hub)|eGRID & US Climate Leaders|- Scope 1: fossil fuels, biofuels, refrigerants, passenger and delivery vehicles (distance based)|Earth, United States of America|2018 - 2024|\n",
    "|Federal Government of the United States|Environmental Protection Agency|[Supply Chain Greenhouse Gas Emission Factors for US Industries and Commodities (USEEIO)](https://cfpub.epa.gov/si/si_public_record_Report.cfm?dirEntryId=349324&Lab=CESER)|eGRID & US Climate Leaders|- Scope 3: Spend-based emission factors covering 394 commodities and 66 summary data types|Earth|2018 - 2024|\n",
    "|His Majesty's Government (United Kingdom of Great Britain and Northern Ireland)|Department for Energy Security and Net Zero|[Greenhouse gas reporting: conversion factors 2024](https://www.gov.uk/government/publications/greenhouse-gas-reporting-conversion-factors-2024)|DEFRA|- Scope 1: fossil fuels, biofuels, refrigerants, passenger and delivery vehicles (distance based) - Scope 2: UK electricity, UK electricity for electric vehicles, heat and steam - Scope 3: upstream and downstream emissions resulting from Scope 1 and 2 emission sources|Earth, United Kingdom|2007 - 2024|\n",
    "|His Majesty's Government (New Zealand)|Ministry for the Environment|[Measuring Emissions Guide](https://environment.govt.nz/publications/measuring-emissions-guide-2025/)|New Zealand - Ministry for the Env|- Scope 1: fossil fuels, biofuels, refrigerants, passenger and delivery vehicles (distance based) - Scope 2: NZ electricity : The yearly average are used in Envizi - Scope 3: upstream and downstream emissions resulting from Scope 1 and 2 emission sources, working from home measured in employee/day, travel by vehicle size and distance, freight in tonne.km, water supply and waste water, waste, materials, agriculture and forestry|New Zealand|2016 - 2024|\n",
    "|Association of Issuing Bodies||[European Residual Mix](https://www.aib-net.org/facts/european-residual-mix)|Market-based electricity|- Scope 2 Market-based electricity|Europe, Australia|2011 - 2024|\n",
    "|Green-e||[Green-e® Residual Mix Emissions Rates](https://www.green-e.org/2023-residual-mix)|Market-based electricity|- Scope 2 Market-based electricity (eGrid regions)|United States of America|2015 - 2023|\n",
    "|National Government of the Republic of China|Ministry of Economic Affairs - Energy Administration|[Electricity Carbon Emission Factor](https://www.moeaea.gov.tw/ECW/English/content/Content.aspx?menu_id=24200)|MOEAEA|- Scope 2: electricity|Taiwan|2005 - 2022|\n",
    "|Royal Thai Government|Ministry of Energy - Energy, Policy and Planning Office|[CO2 Statistic](https://www.eppo.go.th/index.php/en/en-energystatistics/co2-statistic)|EPPO|- Scope 2: electricity|Thailand|1999 - 2024|\n",
    "|Climate Transparency||[Annual G20 Report](https://www.climate-transparency.org/g20-climate-performance)|Climate Transparency|- Scope 2: electricity|Argentina, Australia, Canada, China, France, Germany, India, Indonesia, Italy, Japan, Mexico, Russia, Saudi Arabia, South Africa, South Korea, Turkey, United States of America, United Kingdom|2015 - 2022|\n",
    "|Government of Dubai|Dubai Electricity and Water Authority (DEWA)|[Sustainability Reports](https://www.dewa.gov.ae/en/consumer/sustainability/sustainability-reports)|DEWA|- Scope 2: electricity|United Arab Emirates- Dubai|2013 - 2024|\n",
    "|European Union|European Environment Agency|[Greenhouse gas emission intensity of electricity generation in Europe](https://www.eea.europa.eu/en/analysis/indicators/greenhouse-gas-emission-intensity-of-1?activeAccordion=546a7c35-9188-4d23-94ee-005d97c26f2b)|EEA|- Scope 2: electricity|European Union members|1990 - 2022|\n",
    "|United Nations|Intergovernmental Panel on Climate Change|[IPCC Assessment Reports (AR4)](https://www.ipcc.ch/report/ar4/syr/)|AR4|- Scope 1: fossil fuels, biofuels, refrigerants|Earth|N/A|\n",
    "|United Nations|Intergovernmental Panel on Climate Change|[IPCC Assessment Reports (AR5)](https://www.ipcc.ch/report/ar5/syr/)|AR5|- Scope 1: fossil fuels, biofuels, refrigerants|Earth|N/A|\n",
    "|United Nations|Intergovernmental Panel on Climate Change|[IPCC Assessment Reports (AR6)](https://www.ipcc.ch/report/ar6/wg1/)|AR6|- Scope 1: fossil fuels, biofuels, refrigerants|Earth|N/A|\n",
    "|The Institute for Global Environmental Strategies (IGES)||[IGES List of Grid Emission Factors](https://www.iges.or.jp/en/pub/list-grid-emission-factor/en)|IGES|- Scope 2: electricity|Antigua and Barbuda, Argentina, Armenia, Bangladesh, Belize, Benin, Botswana, Brazil, Burkina Faso, Cambodia, Cape Verde, Chile, China, Colombia, Côte d’Ivoire, Democratic Republic of the Congo, Dominican Republic, Ecuador, Gambia, Georgia, Ghana, Guyana, Grenada, Honduras, India, Indonesia, Jamaica, Republic of Kenya, Lao PDR, Lesotho, Malaysia, Mali, Mexico, Mongolia, Mauritius, Mozambique, Namibia, Niger, Nigeria, Pakistan, Peru, Philippines, Rwanda, Saint Kitts and Nevis, Sao Tome and Principe, Senegal, Singapore, South Africa, Sri Lanka, Sudan, Swaziland, Thailand, Togo, Uganda, Vietnam, Zambia, Zimbabwe|Region dependent|"
   ]
  },
  {
   "cell_type": "markdown",
   "metadata": {},
   "source": [
    "## API Endpoints"
   ]
  },
  {
   "cell_type": "markdown",
   "metadata": {},
   "source": [
    "Emissions API provides several APIs to calculate emissions based on activity data. The Carbon Engine provides a Calculation API which captures data across all scopes and provides scope- specific endpoints.\n",
    "\n",
    "All scopes:\n",
    "`/calculation`: Calculates emissions from any activity using a specific emissions factor from the managed factor database. \n",
    "\n",
    "Scope 1:\n",
    "\n",
    "- `/stationary`: Calculate emissions from comfort heating or combustion of fuels in stationary sources like boilers, furnaces, or generators.\n",
    "- `/fugitive`: Calculate emissions from leaks or unintended release of gases from refrigerant and air conditioning systems\n",
    "- `/mobile`: Calculate emissions from mobile sources, which are defined as vehicles or equipment that move.\n",
    "\n",
    "Scope 2\n",
    "\n",
    "- `/location`:  Calculate emissions from electricity purchased from an energy grid system based on the geographic location where the electricity is used.\n",
    "\n",
    "Scope 3\n",
    "\n",
    "- `/transport_and_distribution`: Calculate emissions from business-related travel, employee commuting, and freight transport.\n",
    "\n",
    "The `/factor` API is used to find emissions factors from factor sets from the managed factor database.\n",
    "\n",
    "Additionally factor can be searched for with the `/factor/search` endpoint."
   ]
  },
  {
   "cell_type": "markdown",
   "metadata": {},
   "source": [
    "## Industry Use Cases"
   ]
  },
  {
   "cell_type": "markdown",
   "metadata": {},
   "source": [
    "A number of industry use case notebooks illustrate how a business can take advantage of Emissions API:\n",
    "\n",
    "**Environmental impact of power plant** \n",
    "\n",
    "- Calculating the environmental impact of power plants will be used to identify oppurtunities for carbon reduction through efficiency improvemnets or cleaner fuel alternatives.\n",
    "\n",
    "- [View Environmental impact of power plant use case](samples/scope1/environmental_impact_of_power_plant/power_plant.ipynb)\n",
    "\n",
    "\n",
    "**Refrigeration leaks insights**\n",
    "\n",
    "- Organizations can make data-driven decisions about refrigeration assets and their corresponding environmental impact.\n",
    "\n",
    "- [View Refrigeration leaks insights use case](samples/scope1/refrigeration_leaks_insights/refrigeration_leaks_insights.ipynb)\n",
    "\n",
    "**Sustainable crew scheduling** \n",
    "\n",
    "- Organizations can use mobile emissions API to reduce of carbon footprint in sustainable work order fulfillment\n",
    "\n",
    "- [View Sustainable crew scheduling use case](samples/scope1/sustainable_crew_scheduling/carbon_aware_crew_scheduling.ipynb)"
   ]
  },
  {
   "cell_type": "markdown",
   "metadata": {},
   "source": [
    "## Related Links"
   ]
  },
  {
   "cell_type": "markdown",
   "metadata": {},
   "source": [
    "### Emissions API\n",
    "\n",
    "[OpenAPI Documentation](https://developer.ibm.com/apis/catalog/ghgemissions--ibm-envizi-emissions-api/Introduction)\n",
    "\n",
    "[Excel Add-in](https://ibm.github.io/ibm-envizi-emissions-api-excel-addin/)\n",
    "\n",
    "[Node.js SDK](https://github.com/IBM/ibm-envizi-emissions-api-nodejs-sdk)\n",
    "\n",
    "### General\n",
    "\n",
    "[Understanding GHG Emissions](https://www.ibm.com/topics/greenhouse-gas-emissions)\n",
    "\n",
    "[GHG Emissions Scopes](https://www.ibm.com/think/topics/scope-1-2-3-emissions)"
   ]
  }
 ],
 "metadata": {
  "kernelspec": {
   "display_name": "Python 3 (ipykernel)",
   "language": "python",
   "name": "python3"
  },
  "language_info": {
   "codemirror_mode": {
    "name": "ipython",
    "version": 3
   },
   "file_extension": ".py",
   "mimetype": "text/x-python",
   "name": "python",
   "nbconvert_exporter": "python",
   "pygments_lexer": "ipython3",
   "version": "3.11.0"
  }
 },
 "nbformat": 4,
 "nbformat_minor": 2
}
