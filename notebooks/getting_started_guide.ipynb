{
 "cells": [
  {
   "cell_type": "markdown",
   "metadata": {},
   "source": [
    "# Getting Started with IBM Envizi Emissions API\n",
    "\n",
    "This notebook provides a quick introduction to using the IBM Envizi Emissions API for calculating greenhouse gas emissions. We'll walk through a simple example of calculating Scope 2 emissions from electricity consumption."
   ]
  },
  {
   "cell_type": "markdown",
   "metadata": {},
   "source": [
    "## Understanding the Input Payload\n",
    "\n",
    "The IBM Envizi Emissions API uses a JSON payload structure that follows the \"What, Where, When\" pattern:\n",
    "\n",
    "- **What**: The activity data - what type of activity generated emissions (e.g., electricity consumption, fuel combustion)\n",
    "- **Where**: The location data - where the activity took place (country, region, etc.)\n",
    "- **When**: The time data - when the activity occurred (date, time period)\n",
    "\n",
    "Let's create a simple payload for calculating emissions from electricity consumption:"
   ]
  },
  {
   "cell_type": "code",
   "execution_count": null,
   "metadata": {},
   "outputs": [],
   "source": [
    "{\n",
    "    \"time\": {\n",
    "        \"date\": \"2025-01-04\"\n",
    "    },\n",
    "    \"location\": {\n",
    "        \"country\": \"usa\"\n",
    "    },\n",
    "    \"activity\": {\n",
    "        \"type\": \"electricity\",\n",
    "        \"value\": 10,\n",
    "        \"unit\": \"kWh\"\n",
    "    },\n",
    "    \"includeDetails\": False\n",
    "}"
   ]
  },
  {
   "cell_type": "markdown",
   "metadata": {},
   "source": [
    "### Explaining the Payload Components\n",
    "\n",
    "1. **Time (When)**:\n",
    "   - `date`: The date when the electricity was consumed (January 4, 2025)\n",
    "   - This helps the API select the appropriate emissions factors for that time period\n",
    "\n",
    "2. **Location (Where)**:\n",
    "   - `country`: The country where the electricity was consumed (USA)\n",
    "   - Location is crucial as emissions factors vary significantly by region due to different energy mixes\n",
    "\n",
    "3. **Activity (What)**:\n",
    "   - `type`: The type of activity (electricity consumption)\n",
    "   - `value`: The amount of electricity consumed (10 kilowatt-hours)\n",
    "   - `unit`: The unit of measurement (kWh)\n",
    "\n",
    "4. **includeDetails**:\n",
    "   - A boolean flag that determines whether the API response includes detailed calculation information\n",
    "   - Currently set to `false`, which will return only the final emissions value"
   ]
  },
  {
   "cell_type": "markdown",
   "metadata": {},
   "source": [
    "## Benefits of Including Details for Audit Purposes\n",
    "\n",
    "When `includeDetails` is set to `true`, the response includes critical information for audit purposes:\n",
    "\n",
    "1. **Calculation Method**: Identifies whether location-based or market-based methods were used\n",
    "\n",
    "2. **Emission Factors**: Provides the specific factors used in the calculation, including:\n",
    "   - The numerical value of the factor\n",
    "   - The unit of measurement\n",
    "   - The source of the factor (e.g., EPA eGRID)\n",
    "   - The applicable region\n",
    "   - The year the factor was published\n",
    "\n",
    "3. **Calculation Formula**: Shows exactly how the emissions value was derived\n",
    "\n",
    "4. **Greenhouse Gas Breakdown**: Provides a breakdown of individual greenhouse gases (CO2, CH4, N2O) that make up the total CO2e value\n",
    "\n",
    "This level of detail is essential for:\n",
    "- Regulatory compliance reporting\n",
    "- Third-party verification of emissions data\n",
    "- Internal audit processes\n",
    "- Transparency in sustainability reporting"
   ]
  }
 ],
 "metadata": {
  "kernelspec": {
   "display_name": "Python 3",
   "language": "python",
   "name": "python3"
  },
  "language_info": {
   "codemirror_mode": {
    "name": "ipython",
    "version": 3
   },
   "file_extension": ".py",
   "mimetype": "text/x-python",
   "name": "python",
   "nbconvert_exporter": "python",
   "pygments_lexer": "ipython3",
   "version": "3.8.10"
  }
 },
 "nbformat": 4,
 "nbformat_minor": 4
}
